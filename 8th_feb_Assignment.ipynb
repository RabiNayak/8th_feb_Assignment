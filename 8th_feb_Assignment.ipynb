{
 "cells": [
  {
   "cell_type": "markdown",
   "id": "c70ea898-8c6e-4d50-877f-4074cb5c581b",
   "metadata": {},
   "source": [
    "Q1. What is Abstraction in OOps? Explain with an example."
   ]
  },
  {
   "cell_type": "markdown",
   "id": "0a439b06-4ff1-41ed-b4e9-aa9bef3cd5d2",
   "metadata": {},
   "source": [
    "Abstraction is one of the fundamental concepts of object-oriented programming that focuses on hiding unnecessary details and displaying only the essential features of an object. In other words, it allows to represent complex real-world problems more easily by creating a simplified representation of it in the form of classes and objects.\n",
    "\n"
   ]
  },
  {
   "cell_type": "markdown",
   "id": "311bfa6e-0122-4a4d-ab28-4dcae3805d3a",
   "metadata": {},
   "source": [
    "Ex-"
   ]
  },
  {
   "cell_type": "code",
   "execution_count": 12,
   "id": "ef1de06a-0276-4d71-850d-6066850878e7",
   "metadata": {},
   "outputs": [],
   "source": [
    "#abstraction class\n",
    "import abc\n",
    "class pwskills:\n",
    "    @abc.abstractclassmethod\n",
    "    def student_unique_id(self):\n",
    "        pass\n",
    "    @abc.abstractclassmethod\n",
    "    def student_assignment(self):\n",
    "        pass\n",
    "    @abc.abstractclassmethod\n",
    "    def student_marks(self):\n",
    "        pass"
   ]
  },
  {
   "cell_type": "code",
   "execution_count": 13,
   "id": "421790aa-365d-478a-b849-9b71ec042ad0",
   "metadata": {},
   "outputs": [],
   "source": [
    "class data_science_masters(pwskills):\n",
    "    def student_unique_id(self):\n",
    "        return \"this is the method taking unique id of student for dsm\" \n",
    "    def student_assignment(self):\n",
    "        return \"this is taking students assignment from dsm\"\n",
    "    "
   ]
  },
  {
   "cell_type": "code",
   "execution_count": 14,
   "id": "4360a805-3305-49b6-a884-7ba1bf49a93d",
   "metadata": {},
   "outputs": [],
   "source": [
    "class physics_wallah_dsm(pwskills):\n",
    "    def student_unique_id(self):\n",
    "        return \"this method taking unique id of student for dsm in physics wallah\"\n",
    "    def student_assignment(self):\n",
    "        return \"this method taking assignment from dsm in physics wallah\""
   ]
  },
  {
   "cell_type": "code",
   "execution_count": 15,
   "id": "d711b3eb-fe7f-4671-86e6-d9ad285c639e",
   "metadata": {},
   "outputs": [
    {
     "data": {
      "text/plain": [
       "'this is taking students assignment from dsm'"
      ]
     },
     "execution_count": 15,
     "metadata": {},
     "output_type": "execute_result"
    }
   ],
   "source": [
    "dsm=data_science_masters()\n",
    "dsm.student_assignment()"
   ]
  },
  {
   "cell_type": "code",
   "execution_count": 16,
   "id": "eca2265f-181c-4f22-a717-21dcec06c7ab",
   "metadata": {},
   "outputs": [
    {
     "data": {
      "text/plain": [
       "'this method taking unique id of student for dsm in physics wallah'"
      ]
     },
     "execution_count": 16,
     "metadata": {},
     "output_type": "execute_result"
    }
   ],
   "source": [
    "pw=physics_wallah_dsm()\n",
    "pw.student_unique_id()"
   ]
  },
  {
   "cell_type": "markdown",
   "id": "33bbda3e-9faa-4de6-af9b-0329912c605c",
   "metadata": {},
   "source": [
    "Q2. Differentiate between Abstraction and Encapsulation. Explain with an example."
   ]
  },
  {
   "cell_type": "markdown",
   "id": "a6d607a6-4145-446a-b831-e7422e622f1a",
   "metadata": {},
   "source": [
    "Abstraction and Encapsulation are two important concepts in object-oriented programming (OOP). While both concepts are related to data hiding and protecting the internal details of a class, they have different meanings and serve different purposes."
   ]
  },
  {
   "cell_type": "markdown",
   "id": "1d4cabfc-eb51-4704-86d8-6c317ca24839",
   "metadata": {},
   "source": [
    "Example of abstraction:-"
   ]
  },
  {
   "cell_type": "code",
   "execution_count": 10,
   "id": "f6fceb01-8061-4d34-b77a-f74cf1da20b0",
   "metadata": {},
   "outputs": [],
   "source": [
    "#abstraction class\n",
    "import abc\n",
    "class pwskills:\n",
    "    @abc.abstractclassmethod\n",
    "    def student_unique_id(self):\n",
    "        pass\n",
    "    @abc.abstractclassmethod\n",
    "    def student_assignment(self):\n",
    "        pass\n",
    "    @abc.abstractclassmethod\n",
    "    def student_marks(self):\n",
    "        pass\n",
    "    \n",
    "class data_science_masters(pwskills):\n",
    "    def student_unique_id(self):\n",
    "        return \"this is the method taking unique id of student for dsm\" \n",
    "    def student_assignment(self):\n",
    "        return \"this is taking students assignment from dsm\"\n",
    "    \n",
    "    \n",
    "class physics_wallah_dsm(pwskills):\n",
    "    def student_unique_id(self):\n",
    "        return \"this method taking unique id of student for dsm in physics wallah\"\n",
    "    def student_assignment(self):\n",
    "        return \"this method taking assignment from dsm in physics wallah\""
   ]
  },
  {
   "cell_type": "code",
   "execution_count": 11,
   "id": "0894b8c6-0a5f-48ca-af2c-309b83926664",
   "metadata": {},
   "outputs": [
    {
     "data": {
      "text/plain": [
       "'this is the method taking unique id of student for dsm'"
      ]
     },
     "execution_count": 11,
     "metadata": {},
     "output_type": "execute_result"
    }
   ],
   "source": [
    "dsm=data_science_masters()\n",
    "dsm.student_unique_id()"
   ]
  },
  {
   "cell_type": "code",
   "execution_count": 17,
   "id": "720cfcb5-5164-41b7-a1dc-e4515b64c344",
   "metadata": {},
   "outputs": [
    {
     "data": {
      "text/plain": [
       "'this method taking unique id of student for dsm in physics wallah'"
      ]
     },
     "execution_count": 17,
     "metadata": {},
     "output_type": "execute_result"
    }
   ],
   "source": [
    "pw=physics_wallah_dsm()\n",
    "pw.student_unique_id()"
   ]
  },
  {
   "cell_type": "markdown",
   "id": "fd414839-eecf-49e4-8abf-c3faa46e015f",
   "metadata": {},
   "source": [
    "Example of encapsulation"
   ]
  },
  {
   "cell_type": "code",
   "execution_count": 18,
   "id": "82724762-bdcf-4af3-834f-d1ab4bbd81e1",
   "metadata": {},
   "outputs": [],
   "source": [
    "class car:\n",
    "    def __init__(self,year,make,model,colour,speed):\n",
    "        self.__year=year\n",
    "        self.__make=make\n",
    "        self.__model=model\n",
    "        self.__colour=colour\n",
    "        self.__speed=0\n",
    "    def set_speed(self,speed):\n",
    "        self.__speed=0 if speed < 0 else speed\n",
    "    def get_speed(self):\n",
    "        return self.__speed"
   ]
  },
  {
   "cell_type": "code",
   "execution_count": 19,
   "id": "1b30adca-9c47-4a94-b880-6713984d5bc4",
   "metadata": {},
   "outputs": [],
   "source": [
    "c=car(2023,\"BMW\",\"X3\",\"BLACK\",0)"
   ]
  },
  {
   "cell_type": "code",
   "execution_count": 20,
   "id": "a62126f6-c654-4134-b3b8-1079fe81cd13",
   "metadata": {},
   "outputs": [
    {
     "ename": "AttributeError",
     "evalue": "'car' object has no attribute 'make'",
     "output_type": "error",
     "traceback": [
      "\u001b[0;31m---------------------------------------------------------------------------\u001b[0m",
      "\u001b[0;31mAttributeError\u001b[0m                            Traceback (most recent call last)",
      "Cell \u001b[0;32mIn[20], line 1\u001b[0m\n\u001b[0;32m----> 1\u001b[0m \u001b[43mc\u001b[49m\u001b[38;5;241;43m.\u001b[39;49m\u001b[43mmake\u001b[49m()\n",
      "\u001b[0;31mAttributeError\u001b[0m: 'car' object has no attribute 'make'"
     ]
    }
   ],
   "source": [
    "c.make()"
   ]
  },
  {
   "cell_type": "code",
   "execution_count": 22,
   "id": "4f528190-0fcc-47a3-b890-7aebbab7ec9a",
   "metadata": {},
   "outputs": [
    {
     "data": {
      "text/plain": [
       "'BMW'"
      ]
     },
     "execution_count": 22,
     "metadata": {},
     "output_type": "execute_result"
    }
   ],
   "source": [
    "c._car__make"
   ]
  },
  {
   "cell_type": "markdown",
   "id": "e22750fa-053d-470b-b3e9-bcb0c2cce45f",
   "metadata": {},
   "source": [
    "Q3. What is abc module in python? Why is it used?"
   ]
  },
  {
   "cell_type": "markdown",
   "id": "5f2a2bd7-2a9d-4819-9212-18de84bc95d9",
   "metadata": {},
   "source": [
    "The abc module in Python stands for Abstract Base Classes. It provides a way to define abstract classes and interfaces, which can then be inherited by other classes. Abstract base classes are classes that cannot be instantiated on their own, but provide a template for their subclasses.\n",
    "\n",
    "\n",
    "The abc module is used for several purposes in Python:\n",
    "-Defining Abstract Base Classes as like abstractclassmethod,abstractmethod\n",
    "-Enforcing Interface Contracts\n",
    "-Type Checking the abc module can be used to check wheather a object is an  instance of a abstract base class or not. The function is  isinstance()"
   ]
  },
  {
   "cell_type": "markdown",
   "id": "c6543682-d725-428b-be4d-dae1f087da03",
   "metadata": {},
   "source": [
    "Q4. How can we achieve data abstraction?"
   ]
  },
  {
   "cell_type": "markdown",
   "id": "cebf6f54-d7d1-48d3-adbc-814e6e830f0a",
   "metadata": {},
   "source": [
    "Data abstraction is a technique used in computer science to manage complexity by hiding irrelevant details and exposing only the necessary information to the user. It can be achieved in various ways depending on the context, but some general strategies include.\n",
    "\n",
    "We can achieve Data Abstraction by:\n",
    "\n",
    "->Encapsulation\n",
    "\n",
    "->Modularity-Breaking Of Program into small part\n",
    "\n",
    "->Abstract Data Type\n",
    "\n",
    "->Polymerphism"
   ]
  },
  {
   "cell_type": "markdown",
   "id": "8fe2cc35-f6f5-4d72-9bda-e3c05628def0",
   "metadata": {},
   "source": [
    "Q5. Can we create an instance of an abstract class? Explain your answer.\n"
   ]
  },
  {
   "cell_type": "markdown",
   "id": "e0f9fbf0-c0b5-433b-b197-57303a7f4333",
   "metadata": {},
   "source": [
    "No, we cannot create an instance of an abstract class in Python.\n",
    "\n",
    "An abstract class is a class that contains at least one abstract method, which is a method without an implementation. Abstract classes are designed to be inherited by other classes, which provide the implementation for the abstract methods."
   ]
  },
  {
   "cell_type": "code",
   "execution_count": 26,
   "id": "daf8c07f-a597-4aa3-8944-6978bf753625",
   "metadata": {},
   "outputs": [],
   "source": [
    " import abc\n",
    "\n",
    "class Animal(ABC):\n",
    "    @abc.abstractmethod\n",
    "    def make_sound(self):\n",
    "        pass\n"
   ]
  },
  {
   "cell_type": "code",
   "execution_count": 27,
   "id": "bfef7faf-d757-4344-a141-f05d8385be67",
   "metadata": {},
   "outputs": [
    {
     "ename": "TypeError",
     "evalue": "Can't instantiate abstract class Animal with abstract method make_sound",
     "output_type": "error",
     "traceback": [
      "\u001b[0;31m---------------------------------------------------------------------------\u001b[0m",
      "\u001b[0;31mTypeError\u001b[0m                                 Traceback (most recent call last)",
      "Cell \u001b[0;32mIn[27], line 1\u001b[0m\n\u001b[0;32m----> 1\u001b[0m dog\u001b[38;5;241m=\u001b[39m\u001b[43mAnimal\u001b[49m\u001b[43m(\u001b[49m\u001b[43m)\u001b[49m\n",
      "\u001b[0;31mTypeError\u001b[0m: Can't instantiate abstract class Animal with abstract method make_sound"
     ]
    }
   ],
   "source": [
    "dog=Animal()"
   ]
  },
  {
   "cell_type": "code",
   "execution_count": null,
   "id": "4cc3353d-a7d7-4b87-a1cb-b38881320560",
   "metadata": {},
   "outputs": [],
   "source": []
  }
 ],
 "metadata": {
  "kernelspec": {
   "display_name": "Python 3 (ipykernel)",
   "language": "python",
   "name": "python3"
  },
  "language_info": {
   "codemirror_mode": {
    "name": "ipython",
    "version": 3
   },
   "file_extension": ".py",
   "mimetype": "text/x-python",
   "name": "python",
   "nbconvert_exporter": "python",
   "pygments_lexer": "ipython3",
   "version": "3.10.8"
  }
 },
 "nbformat": 4,
 "nbformat_minor": 5
}
